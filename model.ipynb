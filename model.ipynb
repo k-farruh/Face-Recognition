{
 "cells": [
  {
   "cell_type": "code",
   "execution_count": 1,
   "metadata": {},
   "outputs": [],
   "source": [
    "import face_recognition as fr\n",
    "import cv2\n",
    "import glob\n",
    "import numpy as np\n",
    "import os\n",
    "import mediapipe as mp\n",
    "import random\n",
    "from sklearn.multiclass import OneVsRestClassifier"
   ]
  },
  {
   "cell_type": "code",
   "execution_count": null,
   "metadata": {},
   "outputs": [],
   "source": [
    "#data = \"./archive/train/*/\"\n",
    "data = \"../lfw/*/\"\n",
    "x = []\n",
    "y = []\n",
    "classes = {}\n",
    "#num_classes = len(glob.glob(os.path.join(data)))\n",
    "#n = random.randint(0, num_classes)\n",
    "for idx, folder in enumerate(glob.glob(os.path.join(data))):\n",
    "    if idx == 2000:\n",
    "        break\n",
    "    num_pics = len(glob.glob(os.path.join(folder+\"*\")))\n",
    "    if num_pics < 10:\n",
    "        continue\n",
    "    use = glob.glob(os.path.join(folder+\"*\"))[:10]\n",
    "    person_name = folder.split(\"\\\\\")[1]\n",
    "    print(idx, person_name)\n",
    "    classes[idx] = person_name\n",
    "    for f in use:\n",
    "        pic = cv2.imread(f)\n",
    "        detected_pos = fr.face_locations(pic)\n",
    "        for i in detected_pos:\n",
    "            top, right, bottom, left = i\n",
    "            face_image = pic[top:bottom, left:right]\n",
    "            try:\n",
    "                face_image = cv2.resize(face_image, (256, 256))\n",
    "                face_embedding = fr.face_encodings(face_image)[0]\n",
    "                x.append(face_embedding)\n",
    "                y.append(idx)\n",
    "            except:\n",
    "                continue\n",
    "print(len(x))\n",
    "print(x)"
   ]
  },
  {
   "cell_type": "code",
   "execution_count": 93,
   "metadata": {},
   "outputs": [],
   "source": [
    "import json \n",
    "with open(\"classes.json\", \"w\") as outfile:\n",
    "    json.dump(classes, outfile)"
   ]
  },
  {
   "cell_type": "code",
   "execution_count": 87,
   "metadata": {},
   "outputs": [
    {
     "name": "stdout",
     "output_type": "stream",
     "text": [
      "{'17': 'Abdullah_Gul', '50': 'Adrien_Brody', '121': 'Alejandro_Toledo', '204': 'Alvaro_Uribe', '223': 'Amelie_Mauresmo', '272': 'Andre_Agassi', '290': 'Andy_Roddick', '302': 'Angelina_Jolie', '317': 'Anna_Kournikova', '335': 'Ann_Veneman', '370': 'Ariel_Sharon', '374': 'Ari_Fleischer', '386': 'Arnold_Schwarzenegger', '417': 'Atal_Bihari_Vajpayee', '544': 'Bill_Clinton', '551': 'Bill_Gates', '562': 'Bill_McBride', '573': 'Bill_Simon', '706': 'Britney_Spears', '781': 'Carlos_Menem', '783': 'Carlos_Moya', '831': 'Catherine_Zeta-Jones', '875': 'Charles_Moose', '1047': 'Colin_Powell', '1059': 'Condoleezza_Rice', '1207': 'David_Beckham', '1252': 'David_Nalbandian', '1347': 'Dick_Cheney', '1382': 'Dominique_de_Villepin', '1393': 'Donald_Rumsfeld', '1473': 'Edmund_Stoiber', '1476': 'Eduardo_Duhalde', '1704': 'Fidel_Castro', '1854': 'George_HW_Bush', '1865': 'George_Robertson', '1870': 'George_W_Bush', '1891': 'Gerhard_Schroeder', '1932': 'Gloria_Macapagal_Arroyo', '1940': 'Gonzalo_Sanchez_de_Lozada', '1945': 'Gordon_Brown', '1964': 'Gray_Davis', '1993': 'Guillermo_Coria'}\n"
     ]
    }
   ],
   "source": [
    "import json\n",
    "class_f = open('classes.json')\n",
    "classes = json.load(class_f)\n",
    "print(dict(classes))"
   ]
  },
  {
   "cell_type": "code",
   "execution_count": 101,
   "metadata": {},
   "outputs": [
    {
     "name": "stdout",
     "output_type": "stream",
     "text": [
      "[LibSVM][LibSVM][LibSVM][LibSVM][LibSVM][LibSVM][LibSVM][LibSVM][LibSVM][LibSVM][LibSVM][LibSVM][LibSVM][LibSVM][LibSVM][LibSVM][LibSVM][LibSVM][LibSVM][LibSVM][LibSVM][LibSVM][LibSVM][LibSVM][LibSVM][LibSVM][LibSVM][LibSVM][LibSVM][LibSVM][LibSVM][LibSVM][LibSVM][LibSVM][LibSVM][LibSVM][LibSVM][LibSVM][LibSVM][LibSVM][LibSVM][LibSVM]"
     ]
    },
    {
     "data": {
      "text/plain": [
       "['newmodel.joblib']"
      ]
     },
     "execution_count": 101,
     "metadata": {},
     "output_type": "execute_result"
    }
   ],
   "source": [
    "from sklearn.metrics import accuracy_score\n",
    "from sklearn.preprocessing import LabelEncoder\n",
    "from sklearn.preprocessing import Normalizer\n",
    "from sklearn.svm import SVC\n",
    "from joblib import dump, load\n",
    "\n",
    "\n",
    "model = OneVsRestClassifier(SVC(kernel='linear', probability=True, verbose=True, max_iter=1000))\n",
    "model.fit(x, y)\n",
    "dump(model, 'newmodel.joblib')\n"
   ]
  },
  {
   "cell_type": "code",
   "execution_count": 102,
   "metadata": {},
   "outputs": [],
   "source": [
    "model = load('newmodel.joblib')"
   ]
  },
  {
   "cell_type": "code",
   "execution_count": 103,
   "metadata": {
    "scrolled": true
   },
   "outputs": [
    {
     "data": {
      "text/plain": [
       "array([  17,   50,  121,  204,  223,  272,  290,  302,  317,  335,  370,\n",
       "        374,  386,  417,  544,  551,  562,  573,  706,  781,  783,  831,\n",
       "        875, 1047, 1059, 1207, 1252, 1347, 1382, 1393, 1473, 1476, 1704,\n",
       "       1854, 1865, 1870, 1891, 1932, 1940, 1945, 1964, 1993])"
      ]
     },
     "execution_count": 103,
     "metadata": {},
     "output_type": "execute_result"
    }
   ],
   "source": [
    "model.classes_"
   ]
  },
  {
   "cell_type": "code",
   "execution_count": 104,
   "metadata": {},
   "outputs": [
    {
     "name": "stdout",
     "output_type": "stream",
     "text": [
      "['17', '50', '121', '204', '223', '272', '290', '302', '317', '335', '370', '374', '386', '417', '544', '551', '562', '573', '706', '781', '783', '831', '875', '1047', '1059', '1207', '1252', '1347', '1382', '1393', '1473', '1476', '1704', '1854', '1865', '1870', '1891', '1932', '1940', '1945', '1964', '1993']\n"
     ]
    }
   ],
   "source": [
    "class_list = list(classes.keys())\n",
    "print(class_list)"
   ]
  },
  {
   "cell_type": "code",
   "execution_count": 106,
   "metadata": {},
   "outputs": [
    {
     "name": "stdout",
     "output_type": "stream",
     "text": [
      "0 Angelina_Jolie\n",
      "Angelina_Jolie 0.8723421696080942\n",
      "Angelina_Jolie 0.8295308021006402\n",
      "1 Arnold_Schwarzenegger\n",
      "Arnold_Schwarzenegger 0.7972873947966037\n",
      "2 Atal_Bihari_Vajpayee\n",
      "Atal_Bihari_Vajpayee 0.7543001325087304\n",
      "Atal_Bihari_Vajpayee 0.8544449815358515\n",
      "3 Bill_Clinton\n",
      "Bill_Clinton 0.8975208043705579\n",
      "Bill_Clinton 0.7191735219063841\n",
      "Bill_Clinton 0.7708728422259497\n",
      "4 Bill_Gates\n",
      "Bill_Gates 0.7896890424346855\n",
      "Bill_Gates 0.8300043244144298\n",
      "5 Britney_Spears\n",
      "Britney_Spears 0.8477697238644784\n",
      "Britney_Spears 0.809027145629636\n",
      "Britney_Spears 0.860048139814166\n",
      "6 David_Beckham\n",
      "David_Beckham 0.4911438521448386\n",
      "7 Fidel_Castro\n",
      "Fidel_Castro 0.7739279188787824\n"
     ]
    }
   ],
   "source": [
    "data = \"./archive/new_val/*/\"\n",
    "#data = \"../lfw/*/\"\n",
    "for idx, folder in enumerate(glob.glob(os.path.join(data))):\n",
    "    use = glob.glob(os.path.join(folder+\"*\"))\n",
    "    person_name = folder.split(\"\\\\\")[1]\n",
    "    print(idx, person_name)\n",
    "    #classes[idx] = person_name\n",
    "    for f in use:\n",
    "        pic = cv2.imread(f)\n",
    "        detected_pos = fr.face_locations(pic)\n",
    "        for i in detected_pos:\n",
    "            top, right, bottom, left = i\n",
    "            face_image = pic[top:bottom, left:right]\n",
    "            try:\n",
    "                face_image = cv2.resize(face_image, (256, 256))\n",
    "                face_embedding = fr.face_encodings(face_image)[0]\n",
    "                test = np.asarray(face_embedding)\n",
    "                test=  np.reshape(test, (1, -1))\n",
    "                pred = model.predict_proba(test)[0]\n",
    "                if np.max(pred) > 0.5:\n",
    "                    print(classes[str(class_list[np.argmax(pred)])], np.max(pred))\n",
    "                else:\n",
    "                    #added to see what it predicts when highest probability is quite low\n",
    "                    print(classes[str(class_list[np.argmax(pred)])], np.max(pred)) \n",
    "            except Exception as e:\n",
    "                raise(e)\n",
    "                continue\n",
    "            "
   ]
  },
  {
   "cell_type": "code",
   "execution_count": null,
   "metadata": {},
   "outputs": [],
   "source": []
  },
  {
   "cell_type": "code",
   "execution_count": null,
   "metadata": {},
   "outputs": [],
   "source": []
  },
  {
   "cell_type": "code",
   "execution_count": null,
   "metadata": {},
   "outputs": [],
   "source": []
  },
  {
   "cell_type": "code",
   "execution_count": null,
   "metadata": {},
   "outputs": [],
   "source": []
  },
  {
   "cell_type": "code",
   "execution_count": null,
   "metadata": {},
   "outputs": [],
   "source": []
  }
 ],
 "metadata": {
  "kernelspec": {
   "display_name": "Python 3",
   "language": "python",
   "name": "python3"
  },
  "language_info": {
   "codemirror_mode": {
    "name": "ipython",
    "version": 3
   },
   "file_extension": ".py",
   "mimetype": "text/x-python",
   "name": "python",
   "nbconvert_exporter": "python",
   "pygments_lexer": "ipython3",
   "version": "3.9.1"
  }
 },
 "nbformat": 4,
 "nbformat_minor": 4
}
